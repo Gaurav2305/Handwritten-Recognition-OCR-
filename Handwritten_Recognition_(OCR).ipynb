{
  "metadata": {
    "kernelspec": {
      "language": "python",
      "display_name": "Python 3",
      "name": "python3"
    },
    "language_info": {
      "name": "python",
      "version": "3.10.13",
      "mimetype": "text/x-python",
      "codemirror_mode": {
        "name": "ipython",
        "version": 3
      },
      "pygments_lexer": "ipython3",
      "nbconvert_exporter": "python",
      "file_extension": ".py"
    },
    "kaggle": {
      "accelerator": "none",
      "dataSources": [
        {
          "sourceId": 10705,
          "sourceType": "datasetVersion",
          "datasetId": 7160
        }
      ],
      "dockerImageVersionId": 30684,
      "isInternetEnabled": false,
      "language": "python",
      "sourceType": "notebook",
      "isGpuEnabled": false
    },
    "colab": {
      "provenance": [],
      "toc_visible": true,
      "include_colab_link": true
    }
  },
  "nbformat_minor": 0,
  "nbformat": 4,
  "cells": [
    {
      "cell_type": "markdown",
      "metadata": {
        "id": "view-in-github",
        "colab_type": "text"
      },
      "source": [
        "<a href=\"https://colab.research.google.com/github/Gaurav2305/Handwritten-Recognition-OCR-/blob/main/Handwritten_Recognition_(OCR).ipynb\" target=\"_parent\"><img src=\"https://colab.research.google.com/assets/colab-badge.svg\" alt=\"Open In Colab\"/></a>"
      ]
    },
    {
      "source": [
        "# IMPORTANT: RUN THIS CELL IN ORDER TO IMPORT YOUR KAGGLE DATA SOURCES\n",
        "# TO THE CORRECT LOCATION (/kaggle/input) IN YOUR NOTEBOOK,\n",
        "# THEN FEEL FREE TO DELETE THIS CELL.\n",
        "# NOTE: THIS NOTEBOOK ENVIRONMENT DIFFERS FROM KAGGLE'S PYTHON\n",
        "# ENVIRONMENT SO THERE MAY BE MISSING LIBRARIES USED BY YOUR\n",
        "# NOTEBOOK.\n",
        "\n",
        "import os\n",
        "import sys\n",
        "from tempfile import NamedTemporaryFile\n",
        "from urllib.request import urlopen\n",
        "from urllib.parse import unquote, urlparse\n",
        "from urllib.error import HTTPError\n",
        "from zipfile import ZipFile\n",
        "import tarfile\n",
        "import shutil\n",
        "\n",
        "CHUNK_SIZE = 40960\n",
        "DATA_SOURCE_MAPPING = 'emnist:https%3A%2F%2Fstorage.googleapis.com%2Fkaggle-data-sets%2F7160%2F10705%2Fbundle%2Farchive.zip%3FX-Goog-Algorithm%3DGOOG4-RSA-SHA256%26X-Goog-Credential%3Dgcp-kaggle-com%2540kaggle-161607.iam.gserviceaccount.com%252F20240417%252Fauto%252Fstorage%252Fgoog4_request%26X-Goog-Date%3D20240417T072237Z%26X-Goog-Expires%3D259200%26X-Goog-SignedHeaders%3Dhost%26X-Goog-Signature%3Dd7c81fed6db0bd58c463a07b84097ae99d52567b6ff4ede4000d64bd29a9a2f46003e1f9cebb5eceacaaea5e736fd8048de4ef466153b3d1209655a7c906fcbfac016a18f2a86956e498566aba33336543f9aec5795312dc6944f03f52c46285bc15636eb7efdef10d2693cfee1455ebc0d25d1955bea3052eeeeb671917aaa615a925a445e0b6c0bde470e63efe809f0064445d2ab3bef1270abe6a1bb62e2541a7e576012872321fb128ec056b85ccdfaa881005ce853e2d64ad7213fceacd995a651feb6a376177f2bfabcfda9fb99a57255ac7177088ec34278bf1ee38aa69f88dcc278029645017680c17cc0aa1f2b08e6685d8e404691d910805f6ef4b'\n",
        "\n",
        "KAGGLE_INPUT_PATH='/kaggle/input'\n",
        "KAGGLE_WORKING_PATH='/kaggle/working'\n",
        "KAGGLE_SYMLINK='kaggle'\n",
        "\n",
        "!umount /kaggle/input/ 2> /dev/null\n",
        "shutil.rmtree('/kaggle/input', ignore_errors=True)\n",
        "os.makedirs(KAGGLE_INPUT_PATH, 0o777, exist_ok=True)\n",
        "os.makedirs(KAGGLE_WORKING_PATH, 0o777, exist_ok=True)\n",
        "\n",
        "try:\n",
        "  os.symlink(KAGGLE_INPUT_PATH, os.path.join(\"..\", 'input'), target_is_directory=True)\n",
        "except FileExistsError:\n",
        "  pass\n",
        "try:\n",
        "  os.symlink(KAGGLE_WORKING_PATH, os.path.join(\"..\", 'working'), target_is_directory=True)\n",
        "except FileExistsError:\n",
        "  pass\n",
        "\n",
        "for data_source_mapping in DATA_SOURCE_MAPPING.split(','):\n",
        "    directory, download_url_encoded = data_source_mapping.split(':')\n",
        "    download_url = unquote(download_url_encoded)\n",
        "    filename = urlparse(download_url).path\n",
        "    destination_path = os.path.join(KAGGLE_INPUT_PATH, directory)\n",
        "    try:\n",
        "        with urlopen(download_url) as fileres, NamedTemporaryFile() as tfile:\n",
        "            total_length = fileres.headers['content-length']\n",
        "            print(f'Downloading {directory}, {total_length} bytes compressed')\n",
        "            dl = 0\n",
        "            data = fileres.read(CHUNK_SIZE)\n",
        "            while len(data) > 0:\n",
        "                dl += len(data)\n",
        "                tfile.write(data)\n",
        "                done = int(50 * dl / int(total_length))\n",
        "                sys.stdout.write(f\"\\r[{'=' * done}{' ' * (50-done)}] {dl} bytes downloaded\")\n",
        "                sys.stdout.flush()\n",
        "                data = fileres.read(CHUNK_SIZE)\n",
        "            if filename.endswith('.zip'):\n",
        "              with ZipFile(tfile) as zfile:\n",
        "                zfile.extractall(destination_path)\n",
        "            else:\n",
        "              with tarfile.open(tfile.name) as tarfile:\n",
        "                tarfile.extractall(destination_path)\n",
        "            print(f'\\nDownloaded and uncompressed: {directory}')\n",
        "    except HTTPError as e:\n",
        "        print(f'Failed to load (likely expired) {download_url} to path {destination_path}')\n",
        "        continue\n",
        "    except OSError as e:\n",
        "        print(f'Failed to load {download_url} to path {destination_path}')\n",
        "        continue\n",
        "\n",
        "print('Data source import complete.')"
      ],
      "metadata": {
        "id": "-_KOUoGn9fSi",
        "colab": {
          "base_uri": "https://localhost:8080/"
        },
        "outputId": "26ba4aa9-cd13-4b03-94c9-c017f47c23fe"
      },
      "cell_type": "code",
      "outputs": [
        {
          "output_type": "stream",
          "name": "stdout",
          "text": [
            "Downloading emnist, 1330183464 bytes compressed\n",
            "[==================================================] 1330183464 bytes downloaded\n",
            "Downloaded and uncompressed: emnist\n",
            "Data source import complete.\n"
          ]
        }
      ],
      "execution_count": 1
    },
    {
      "cell_type": "code",
      "source": [
        "# This Python 3 environment comes with many helpful analytics libraries installed\n",
        "# It is defined by the kaggle/python Docker image: https://github.com/kaggle/docker-python\n",
        "# For example, here's several helpful packages to load\n",
        "\n",
        "import numpy as np # linear algebra\n",
        "import pandas as pd # data processing, CSV file I/O (e.g. pd.read_csv)\n",
        "\n",
        "# Input data files are available in the read-only \"../input/\" directory\n",
        "# For example, running this (by clicking run or pressing Shift+Enter) will list all files under the input directory\n",
        "\n",
        "import os\n",
        "for dirname, _, filenames in os.walk('/kaggle/input'):\n",
        "    for filename in filenames:\n",
        "        print(os.path.join(dirname, filename))\n",
        "\n",
        "# You can write up to 20GB to the current directory (/kaggle/working/) that gets preserved as output when you create a version using \"Save & Run All\"\n",
        "# You can also write temporary files to /kaggle/temp/, but they won't be saved outside of the current session"
      ],
      "metadata": {
        "_uuid": "8f2839f25d086af736a60e9eeb907d3b93b6e0e5",
        "_cell_guid": "b1076dfc-b9ad-4769-8c92-a6c4dae69d19",
        "execution": {
          "iopub.status.busy": "2024-04-12T01:50:28.865879Z",
          "iopub.execute_input": "2024-04-12T01:50:28.866284Z",
          "iopub.status.idle": "2024-04-12T01:50:29.381439Z",
          "shell.execute_reply.started": "2024-04-12T01:50:28.866253Z",
          "shell.execute_reply": "2024-04-12T01:50:29.380442Z"
        },
        "trusted": true,
        "id": "f_aS300m9fSl",
        "colab": {
          "base_uri": "https://localhost:8080/"
        },
        "outputId": "0edb7c93-38df-49d3-a3c1-5216033cb3b6"
      },
      "execution_count": 2,
      "outputs": [
        {
          "output_type": "stream",
          "name": "stdout",
          "text": [
            "/kaggle/input/emnist/emnist-byclass-test.csv\n",
            "/kaggle/input/emnist/emnist-bymerge-mapping.txt\n",
            "/kaggle/input/emnist/emnist-digits-mapping.txt\n",
            "/kaggle/input/emnist/emnist-byclass-train.csv\n",
            "/kaggle/input/emnist/emnist-digits-train.csv\n",
            "/kaggle/input/emnist/emnist-letters-train.csv\n",
            "/kaggle/input/emnist/emnist-letters-mapping.txt\n",
            "/kaggle/input/emnist/emnist-balanced-train.csv\n",
            "/kaggle/input/emnist/emnist-letters-test.csv\n",
            "/kaggle/input/emnist/emnist-mnist-train.csv\n",
            "/kaggle/input/emnist/emnist-bymerge-test.csv\n",
            "/kaggle/input/emnist/emnist-balanced-test.csv\n",
            "/kaggle/input/emnist/emnist-digits-test.csv\n",
            "/kaggle/input/emnist/emnist-mnist-test.csv\n",
            "/kaggle/input/emnist/emnist-bymerge-train.csv\n",
            "/kaggle/input/emnist/emnist-byclass-mapping.txt\n",
            "/kaggle/input/emnist/emnist-mnist-mapping.txt\n",
            "/kaggle/input/emnist/emnist-balanced-mapping.txt\n",
            "/kaggle/input/emnist/emnist_source_files/emnist-byclass-test-images-idx3-ubyte\n",
            "/kaggle/input/emnist/emnist_source_files/emnist-letters-test-images-idx3-ubyte\n",
            "/kaggle/input/emnist/emnist_source_files/emnist-digits-train-labels-idx1-ubyte\n",
            "/kaggle/input/emnist/emnist_source_files/emnist-digits-train-images-idx3-ubyte\n",
            "/kaggle/input/emnist/emnist_source_files/emnist-mnist-train-labels-idx1-ubyte\n",
            "/kaggle/input/emnist/emnist_source_files/emnist-bymerge-train-images-idx3-ubyte\n",
            "/kaggle/input/emnist/emnist_source_files/emnist-balanced-train-labels-idx1-ubyte\n",
            "/kaggle/input/emnist/emnist_source_files/emnist-digits-test-labels-idx1-ubyte\n",
            "/kaggle/input/emnist/emnist_source_files/emnist-bymerge-train-labels-idx1-ubyte\n",
            "/kaggle/input/emnist/emnist_source_files/emnist-bymerge-test-labels-idx1-ubyte\n",
            "/kaggle/input/emnist/emnist_source_files/emnist-letters-test-labels-idx1-ubyte\n",
            "/kaggle/input/emnist/emnist_source_files/emnist-balanced-test-images-idx3-ubyte\n",
            "/kaggle/input/emnist/emnist_source_files/emnist-byclass-train-labels-idx1-ubyte\n",
            "/kaggle/input/emnist/emnist_source_files/emnist-bymerge-test-images-idx3-ubyte\n",
            "/kaggle/input/emnist/emnist_source_files/emnist-byclass-test-labels-idx1-ubyte\n",
            "/kaggle/input/emnist/emnist_source_files/emnist-mnist-test-labels-idx1-ubyte\n",
            "/kaggle/input/emnist/emnist_source_files/emnist-letters-train-labels-idx1-ubyte\n",
            "/kaggle/input/emnist/emnist_source_files/emnist-byclass-train-images-idx3-ubyte\n",
            "/kaggle/input/emnist/emnist_source_files/emnist-mnist-train-images-idx3-ubyte\n",
            "/kaggle/input/emnist/emnist_source_files/emnist-balanced-train-images-idx3-ubyte\n",
            "/kaggle/input/emnist/emnist_source_files/emnist-mnist-test-images-idx3-ubyte\n",
            "/kaggle/input/emnist/emnist_source_files/emnist-balanced-test-labels-idx1-ubyte\n",
            "/kaggle/input/emnist/emnist_source_files/emnist-digits-test-images-idx3-ubyte\n",
            "/kaggle/input/emnist/emnist_source_files/emnist-letters-train-images-idx3-ubyte\n"
          ]
        }
      ]
    },
    {
      "cell_type": "markdown",
      "source": [
        "# Dependencies / Dataset"
      ],
      "metadata": {
        "id": "dAKkQQ3p9fSl"
      }
    },
    {
      "cell_type": "code",
      "source": [
        "import pandas as pd\n",
        "import tensorflow as tf\n",
        "\n",
        "import matplotlib as mpl\n",
        "import matplotlib.pyplot as plt"
      ],
      "metadata": {
        "execution": {
          "iopub.status.busy": "2024-04-12T01:50:29.383875Z",
          "iopub.execute_input": "2024-04-12T01:50:29.384926Z",
          "iopub.status.idle": "2024-04-12T01:50:33.515192Z",
          "shell.execute_reply.started": "2024-04-12T01:50:29.38489Z",
          "shell.execute_reply": "2024-04-12T01:50:33.513914Z"
        },
        "trusted": true,
        "id": "60AJU_eu9fSm"
      },
      "execution_count": 3,
      "outputs": []
    },
    {
      "cell_type": "code",
      "source": [
        "import pandas as pd\n",
        "\n",
        "num_columns = 785\n",
        "\n",
        "# Create column names\n",
        "columns = ['label'] + list(range(1, num_columns))\n",
        "\n",
        "# Read the training and testing datasets\n",
        "ds_train = pd.read_csv(\"/kaggle/input/emnist/emnist-balanced-train.csv\", header=None)\n",
        "ds_test = pd.read_csv(\"/kaggle/input/emnist/emnist-balanced-test.csv\", header=None)\n",
        "\n",
        "# Assign column names to the DataFrames\n",
        "ds_train.columns = columns\n",
        "ds_test.columns = columns\n",
        "\n",
        "# Reset index\n",
        "ds_train = ds_train.reset_index(drop=True)\n",
        "ds_test = ds_test.reset_index(drop=True)\n",
        "\n",
        "# Extract features and labels\n",
        "x_train = ds_train.drop(['label'], axis=1)\n",
        "y_train = ds_train['label']\n",
        "x_test = ds_test.drop(['label'], axis=1)\n",
        "y_test = ds_test['label']\n",
        "\n",
        "# Display the first few rows of the DataFrame\n",
        "print(ds_train.head())\n",
        "print(ds_test.head())\n"
      ],
      "metadata": {
        "execution": {
          "iopub.status.busy": "2024-04-12T01:50:33.516956Z",
          "iopub.execute_input": "2024-04-12T01:50:33.517634Z",
          "iopub.status.idle": "2024-04-12T01:50:45.177836Z",
          "shell.execute_reply.started": "2024-04-12T01:50:33.517602Z",
          "shell.execute_reply": "2024-04-12T01:50:45.176705Z"
        },
        "trusted": true,
        "id": "uvrKxkmg9fSn",
        "colab": {
          "base_uri": "https://localhost:8080/"
        },
        "outputId": "fd68cc99-ff74-455b-aacf-d6f5019ede01"
      },
      "execution_count": 4,
      "outputs": [
        {
          "output_type": "stream",
          "name": "stdout",
          "text": [
            "   label  1  2  3  4  5  6  7  8  9  ...  775  776  777  778  779  780  781  \\\n",
            "0     45  0  0  0  0  0  0  0  0  0  ...    0    0    0    0    0    0    0   \n",
            "1     36  0  0  0  0  0  0  0  0  0  ...    0    0    0    0    0    0    0   \n",
            "2     43  0  0  0  0  0  0  0  0  0  ...    0    0    0    0    0    0    0   \n",
            "3     15  0  0  0  0  0  0  0  0  0  ...    0    0    0    0    0    0    0   \n",
            "4      4  0  0  0  0  0  0  0  0  0  ...    0    0    0    0    0    0    0   \n",
            "\n",
            "   782  783  784  \n",
            "0    0    0    0  \n",
            "1    0    0    0  \n",
            "2    0    0    0  \n",
            "3    0    0    0  \n",
            "4    0    0    0  \n",
            "\n",
            "[5 rows x 785 columns]\n",
            "   label  1  2  3  4  5  6  7  8  9  ...  775  776  777  778  779  780  781  \\\n",
            "0     41  0  0  0  0  0  0  0  0  0  ...    0    0    0    0    0    0    0   \n",
            "1     39  0  0  0  0  0  0  0  0  0  ...    0    0    0    0    0    0    0   \n",
            "2      9  0  0  0  0  0  0  0  0  0  ...    0    0    0    0    0    0    0   \n",
            "3     26  0  0  0  0  0  0  0  0  0  ...    0    0    0    0    0    0    0   \n",
            "4     44  0  0  0  0  0  0  0  0  0  ...    0    0    0    0    0    0    0   \n",
            "\n",
            "   782  783  784  \n",
            "0    0    0    0  \n",
            "1    0    0    0  \n",
            "2    0    0    0  \n",
            "3    0    0    0  \n",
            "4    0    0    0  \n",
            "\n",
            "[5 rows x 785 columns]\n"
          ]
        }
      ]
    },
    {
      "cell_type": "markdown",
      "source": [
        "# the 62 classes , mapped to actual values"
      ],
      "metadata": {
        "id": "asZGw5vh9fSn"
      }
    },
    {
      "cell_type": "code",
      "source": [
        "alpha_num_to_char = {\n",
        "    0: '0', 1: '1', 2: '2', 3: '3', 4: '4', 5: '5', 6: '6', 7: '7', 8: '8', 9: '9',\n",
        "    10: 'a', 11: 'b', 12: 'c', 13: 'd', 14: 'e', 15: 'f', 16: 'g', 17: 'h', 18: 'i', 19: 'j',\n",
        "    20: 'k', 21: 'l', 22: 'm', 23: 'n', 24: 'o', 25: 'p', 26: 'q', 27: 'r', 28: 's', 29: 't',\n",
        "    30: 'u', 31: 'v', 32: 'w', 33: 'x', 34: 'y', 35: 'z',\n",
        "    36: 'A', 37: 'B', 38: 'C', 39: 'D', 40: 'E', 41: 'F', 42: 'G', 43: 'H', 44: 'I', 45: 'J',\n",
        "    46: 'K', 47: 'L', 48: 'M', 49: 'N', 50: 'O', 51: 'P', 52: 'Q', 53: 'R', 54: 'S', 55: 'T',\n",
        "    56: 'U', 57: 'V', 58: 'W', 59: 'X', 60: 'Y', 61: 'Z'\n",
        "}"
      ],
      "metadata": {
        "execution": {
          "iopub.status.busy": "2024-04-12T01:52:06.943278Z",
          "iopub.execute_input": "2024-04-12T01:52:06.943763Z",
          "iopub.status.idle": "2024-04-12T01:52:06.953985Z",
          "shell.execute_reply.started": "2024-04-12T01:52:06.943729Z",
          "shell.execute_reply": "2024-04-12T01:52:06.953087Z"
        },
        "trusted": true,
        "id": "o0YieTwh9fSn"
      },
      "execution_count": 5,
      "outputs": []
    },
    {
      "cell_type": "markdown",
      "source": [
        "show random Example :"
      ],
      "metadata": {
        "id": "adMSvcGi9fSo"
      }
    },
    {
      "cell_type": "code",
      "source": [
        "def show_example(n) :\n",
        "    label = alpha_num_to_char[ds_train.iloc[n,0]]  # the example's label\n",
        "    plt.title(label)\n",
        "    example = np.array(x_train.iloc[n]) # extract the 28 *28 array that contains the pixels\n",
        "    example_image = example.reshape(28 , 28 ) # rearrange the array to be a 28 by 28 matrix ,that represents that actual image\n",
        "    plt.imshow(example_image , cmap ='gray')\n",
        "    plt.axis('off')\n",
        "\n",
        "    plt.show()"
      ],
      "metadata": {
        "execution": {
          "iopub.status.busy": "2024-04-12T01:52:08.752024Z",
          "iopub.execute_input": "2024-04-12T01:52:08.75242Z",
          "iopub.status.idle": "2024-04-12T01:52:08.759778Z",
          "shell.execute_reply.started": "2024-04-12T01:52:08.752392Z",
          "shell.execute_reply": "2024-04-12T01:52:08.758544Z"
        },
        "trusted": true,
        "id": "OSt4WbpB9fSo"
      },
      "execution_count": 6,
      "outputs": []
    },
    {
      "cell_type": "code",
      "source": [
        "def show_example_and_predicted_val(n,predicted_n) :\n",
        "\n",
        "    true_val = alpha_num_to_char[ds_train.iloc[n,0]]  # the example's label\n",
        "    predicted_val = alpha_num_to_char[predicted_n]  # the example's label\n",
        "\n",
        "    plt.title(\"Actual val : \"+ true_val+\"\\n Predicted :\" + predicted_val)\n",
        "    example = np.array(x_train.iloc[n]) # extract the 28 *28 array that contains the pixels\n",
        "    example_image = example.reshape(28 , 28 ) # rearrange the array to be a 28 by 28 matrix ,that represents that actual image\n",
        "    plt.imshow(example_image , cmap ='gray')\n",
        "    plt.axis('off')\n",
        "\n",
        "    plt.show()"
      ],
      "metadata": {
        "execution": {
          "iopub.status.busy": "2024-04-12T01:52:11.926044Z",
          "iopub.execute_input": "2024-04-12T01:52:11.926774Z",
          "iopub.status.idle": "2024-04-12T01:52:11.933355Z",
          "shell.execute_reply.started": "2024-04-12T01:52:11.926739Z",
          "shell.execute_reply": "2024-04-12T01:52:11.932484Z"
        },
        "trusted": true,
        "id": "c-pPIKVH9fSp"
      },
      "execution_count": 7,
      "outputs": []
    },
    {
      "cell_type": "code",
      "source": [
        "show_example(3)\n"
      ],
      "metadata": {
        "execution": {
          "iopub.status.busy": "2024-04-12T01:52:13.848277Z",
          "iopub.execute_input": "2024-04-12T01:52:13.848752Z",
          "iopub.status.idle": "2024-04-12T01:52:14.038503Z",
          "shell.execute_reply.started": "2024-04-12T01:52:13.848715Z",
          "shell.execute_reply": "2024-04-12T01:52:14.03721Z"
        },
        "trusted": true,
        "id": "RHjXilhQ9fSp",
        "colab": {
          "base_uri": "https://localhost:8080/",
          "height": 428
        },
        "outputId": "17b0c7e4-1a45-4193-e634-e57c0b89c70e"
      },
      "execution_count": 8,
      "outputs": [
        {
          "output_type": "display_data",
          "data": {
            "text/plain": [
              "<Figure size 640x480 with 1 Axes>"
            ],
            "image/png": "[encoded data removed]"
          },
          "metadata": {}
        }
      ]
    },
    {
      "cell_type": "markdown",
      "source": [
        "# preprocessing using a pipeline"
      ],
      "metadata": {
        "id": "Nu3xHpTo9fSp"
      }
    },
    {
      "cell_type": "code",
      "source": [
        "from sklearn.base import BaseEstimator, TransformerMixin\n",
        "from sklearn.pipeline import Pipeline\n",
        "from sklearn.preprocessing import StandardScaler\n",
        "\n",
        "class Reshaper(BaseEstimator, TransformerMixin):\n",
        "    def fit(self, X, y=None):\n",
        "        return self\n",
        "\n",
        "    def transform(self, X):\n",
        "        X_reshaped = X.reshape(-1, 28, 28, 1)\n",
        "        return X_reshaped\n",
        "\n",
        "# Define the pipeline\n",
        "pipeline = Pipeline([\n",
        "    ('scaler', StandardScaler()),  # Step 1: StandardScaler\n",
        "    ('reshaper', Reshaper())  # Step 2: Custom Reshaper\n",
        "])\n",
        "\n",
        "\n",
        "# Fit and transform the training data\n",
        "\n",
        "x_train_processed = pipeline.fit_transform(x_train)\n",
        "y_train_processed = np.eye(62)[y_train.astype(int)]\n",
        "\n",
        "x_test_processed = pipeline.transform(x_test)\n",
        "\n",
        "y_test_processed = np.eye(62)[y_test.astype(int)]"
      ],
      "metadata": {
        "execution": {
          "iopub.status.busy": "2024-04-12T01:52:24.086399Z",
          "iopub.execute_input": "2024-04-12T01:52:24.086864Z",
          "iopub.status.idle": "2024-04-12T01:52:27.597352Z",
          "shell.execute_reply.started": "2024-04-12T01:52:24.086833Z",
          "shell.execute_reply": "2024-04-12T01:52:27.596008Z"
        },
        "trusted": true,
        "id": "S1M0icud9fSp"
      },
      "execution_count": 9,
      "outputs": []
    },
    {
      "cell_type": "code",
      "source": [
        "print('input shape',x_train_processed.shape)\n",
        "print('output shape',y_train.shape)\n",
        "# y_train = np.eye(62)[y_train.astype(int)]\n",
        "print('output shape',y_train_processed.shape)\n"
      ],
      "metadata": {
        "execution": {
          "iopub.status.busy": "2024-04-12T01:52:40.804925Z",
          "iopub.execute_input": "2024-04-12T01:52:40.805368Z",
          "iopub.status.idle": "2024-04-12T01:52:40.811756Z",
          "shell.execute_reply.started": "2024-04-12T01:52:40.805333Z",
          "shell.execute_reply": "2024-04-12T01:52:40.810572Z"
        },
        "trusted": true,
        "id": "wK25x7od9fSq",
        "colab": {
          "base_uri": "https://localhost:8080/"
        },
        "outputId": "c336010c-012a-4de4-9396-7b3e7e099c90"
      },
      "execution_count": 10,
      "outputs": [
        {
          "output_type": "stream",
          "name": "stdout",
          "text": [
            "input shape (112800, 28, 28, 1)\n",
            "output shape (112800,)\n",
            "output shape (112800, 62)\n"
          ]
        }
      ]
    },
    {
      "cell_type": "markdown",
      "source": [
        "the CNN , since we have only 1 channel (grayscaled images ) we can implement our model as a sequential model (explain whats sequentiel)"
      ],
      "metadata": {
        "id": "qK_i1hoy9fSq"
      }
    },
    {
      "cell_type": "code",
      "source": [
        "from keras.models import Sequential\n",
        "from keras.layers import Dense, Flatten, Conv2D, MaxPooling2D,Dropout\n",
        "\n",
        "#  multiple model architectures\n",
        "models = []\n",
        "input_shape=(28,28,1)\n",
        "# Model 1\n",
        "model1 = Sequential()\n",
        "model1.add(Conv2D(32, kernel_size=(3, 3), activation='relu', input_shape=input_shape))\n",
        "model1.add(MaxPooling2D((2, 2)))\n",
        "model1.add(Flatten())\n",
        "model1.add(Dense(128, activation='relu'))\n",
        "model1.add(Dense(62, activation='softmax'))\n",
        "models.append(model1)\n",
        "\n",
        "# Model 2\n",
        "model2 = Sequential()\n",
        "model2.add(Conv2D(32, kernel_size=(3, 3), activation='relu', input_shape=input_shape))\n",
        "model2.add(Dropout(0.25))\n",
        "model2.add(MaxPooling2D((2, 2)))\n",
        "model2.add(Flatten())\n",
        "model2.add(Dense(128, activation='relu'))\n",
        "model2.add(Dropout(0.4))\n",
        "model2.add(Dense(62, activation='softmax'))\n",
        "# Add layers for Model 2\n",
        "models.append(model2)\n",
        "\n",
        "# Model 3\n",
        "model3 = Sequential()\n",
        "model3.add(Conv2D(32, kernel_size=(3, 3), activation='relu', input_shape=input_shape))\n",
        "model3.add(Dropout(0.25))\n",
        "model3.add(MaxPooling2D((2, 2)))\n",
        "model3.add(Flatten())\n",
        "model3.add(Dense(256, activation='relu'))\n",
        "model3.add(Dropout(0.4))\n",
        "model3.add(Dense(128, activation='relu'))\n",
        "model3.add(Dense(62, activation='softmax'))\n",
        "models.append(model3)\n",
        "\n",
        "# Train each model\n",
        "for i, model in enumerate(models):\n",
        "    model.compile(loss='categorical_crossentropy', optimizer='adam', metrics=['accuracy'])\n",
        "    model.fit(x_train_processed, y_train_processed, epochs=5, batch_size=32)\n",
        "\n",
        "# Evaluate each model\n",
        "accuracies = []\n",
        "for i, model in enumerate(models):\n",
        "    loss, accuracy = model.evaluate(x_test_processed, y_test_processed)\n",
        "    accuracies.append(accuracy)\n",
        "    print(f\"Model {i+1} Accuracy: {accuracy}\")\n",
        "\n",
        "# Select the best model based on accuracy\n",
        "best_model_index = accuracies.index(max(accuracies))\n",
        "best_model = models[best_model_index]\n",
        "print(f\"Best Model: Model {best_model_index+1}\")\n"
      ],
      "metadata": {
        "execution": {
          "iopub.status.busy": "2024-04-12T01:52:45.91029Z",
          "iopub.execute_input": "2024-04-12T01:52:45.911448Z"
        },
        "trusted": true,
        "id": "jKcdXXHZ9fSq",
        "colab": {
          "base_uri": "https://localhost:8080/"
        },
        "outputId": "82c00e1d-cafa-4603-e9e6-92c8f54d3076"
      },
      "execution_count": 11,
      "outputs": [
        {
          "output_type": "stream",
          "name": "stdout",
          "text": [
            "Epoch 1/5\n",
            "3525/3525 [==============================] - 90s 25ms/step - loss: 0.7944 - accuracy: 0.7599\n",
            "Epoch 2/5\n",
            "3525/3525 [==============================] - 86s 24ms/step - loss: 0.4846 - accuracy: 0.8385\n",
            "Epoch 3/5\n",
            "3525/3525 [==============================] - 84s 24ms/step - loss: 0.4194 - accuracy: 0.8575\n",
            "Epoch 4/5\n",
            "3525/3525 [==============================] - 90s 25ms/step - loss: 0.3734 - accuracy: 0.8696\n",
            "Epoch 5/5\n",
            "3525/3525 [==============================] - 87s 25ms/step - loss: 0.3410 - accuracy: 0.8787\n",
            "Epoch 1/5\n",
            "3525/3525 [==============================] - 119s 34ms/step - loss: 1.2284 - accuracy: 0.6341\n",
            "Epoch 2/5\n",
            "3525/3525 [==============================] - 119s 34ms/step - loss: 0.8262 - accuracy: 0.7371\n",
            "Epoch 3/5\n",
            "3525/3525 [==============================] - 117s 33ms/step - loss: 0.7410 - accuracy: 0.7622\n",
            "Epoch 4/5\n",
            "3525/3525 [==============================] - 120s 34ms/step - loss: 0.6870 - accuracy: 0.7776\n",
            "Epoch 5/5\n",
            "3525/3525 [==============================] - 117s 33ms/step - loss: 0.6546 - accuracy: 0.7886\n",
            "Epoch 1/5\n",
            "3525/3525 [==============================] - 170s 48ms/step - loss: 1.0044 - accuracy: 0.6961\n",
            "Epoch 2/5\n",
            "3525/3525 [==============================] - 170s 48ms/step - loss: 0.6464 - accuracy: 0.7901\n",
            "Epoch 3/5\n",
            "3525/3525 [==============================] - 179s 51ms/step - loss: 0.5781 - accuracy: 0.8099\n",
            "Epoch 4/5\n",
            "3525/3525 [==============================] - 179s 51ms/step - loss: 0.5346 - accuracy: 0.8198\n",
            "Epoch 5/5\n",
            "3525/3525 [==============================] - 185s 53ms/step - loss: 0.5021 - accuracy: 0.8290\n",
            "588/588 [==============================] - 6s 9ms/step - loss: 0.4965 - accuracy: 0.8485\n",
            "Model 1 Accuracy: 0.8484574556350708\n",
            "588/588 [==============================] - 6s 10ms/step - loss: 0.5085 - accuracy: 0.8381\n",
            "Model 2 Accuracy: 0.8380851149559021\n",
            "588/588 [==============================] - 6s 10ms/step - loss: 0.4393 - accuracy: 0.8534\n",
            "Model 3 Accuracy: 0.8533510565757751\n",
            "Best Model: Model 3\n"
          ]
        }
      ]
    },
    {
      "cell_type": "code",
      "source": [
        "# some example from the data set\n",
        "x=50\n",
        "example0=np.argmax(best_model.predict(x_train_processed[x].reshape(1,28,28,1)).flatten())\n",
        "alpha_num_to_char[example0]\n",
        "show_example_and_predicted_val(x,example0)"
      ],
      "metadata": {
        "trusted": true,
        "id": "1O8S5S9F9fSq",
        "colab": {
          "base_uri": "https://localhost:8080/",
          "height": 466
        },
        "outputId": "7a3013b3-cc1d-4165-c834-aa7a6e04cf6d"
      },
      "execution_count": 12,
      "outputs": [
        {
          "output_type": "stream",
          "name": "stdout",
          "text": [
            "1/1 [==============================] - 0s 182ms/step\n"
          ]
        },
        {
          "output_type": "display_data",
          "data": {
            "text/plain": [
              "<Figure size 640x480 with 1 Axes>"
            ],
            "image/png": "[encoded data removed]"
          },
          "metadata": {}
        }
      ]
    },
    {
      "cell_type": "markdown",
      "source": [
        "Accuracy on the test data"
      ],
      "metadata": {
        "id": "D5H0vAWO9fSq"
      }
    }
  ]
}